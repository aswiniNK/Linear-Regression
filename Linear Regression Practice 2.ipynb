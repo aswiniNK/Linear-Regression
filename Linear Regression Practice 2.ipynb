{
 "cells": [
  {
   "cell_type": "markdown",
   "metadata": {},
   "source": [
    "## Linear Regression Practices "
   ]
  },
  {
   "cell_type": "code",
   "execution_count": 3,
   "metadata": {},
   "outputs": [],
   "source": [
    "## On simple data we are predicting \n",
    "\n",
    "def predict(row, coefficients):\n",
    "    yhat = coefficients[0]\n",
    "    \n",
    "    for i in range(len(row) - 1):\n",
    "        yhat += coefficients[i + 1] * row[i]\n",
    "    return yhat"
   ]
  },
  {
   "cell_type": "code",
   "execution_count": 4,
   "metadata": {},
   "outputs": [
    {
     "name": "stdout",
     "output_type": "stream",
     "text": [
      "Expected = 1.000, Predicted = 1.200\n",
      "Expected = 3.000, Predicted = 2.000\n",
      "Expected = 3.000, Predicted = 3.600\n",
      "Expected = 2.000, Predicted = 2.800\n",
      "Expected = 5.000, Predicted = 4.400\n"
     ]
    }
   ],
   "source": [
    "dataset = [[1,1], [2,3], [4,3], [3,2], [5,5]]\n",
    "coef = [0.4, 0.8]\n",
    "\n",
    "for row in dataset:\n",
    "    yhat = predict(row, coef)\n",
    "    print(\"Expected = %.3f, Predicted = %.3f\" %(row[-1], yhat))"
   ]
  },
  {
   "cell_type": "code",
   "execution_count": 7,
   "metadata": {},
   "outputs": [],
   "source": [
    "## make predictionwith coefficients\n",
    "\n",
    "def predict(row, coefficients):\n",
    "    \n",
    "    yhat = coefficients[0]\n",
    "    \n",
    "    for i in range(len(row) - 1):\n",
    "        yhat += coefficients[i+1] * row[i]\n",
    "    return yhat\n",
    "\n",
    "### Estimate Linear Regression coeffiecients using tochastic gradient descent \n",
    "\n",
    "def coefficients_sgd(train, l_rate, n_epochs):\n",
    "    coef = [0.0 for i in range(len(train[0]))]\n",
    "    for epoch in range(n_epoch):\n",
    "        sum_error = 0\n",
    "        for row in train:\n",
    "            yhat = predict(row, coef)\n",
    "            error = yhat - row[-1]\n",
    "            sum_error += error**2\n",
    "            coef[0] = coef[0] - l_rate * error\n",
    "            \n",
    "            for i in range(len(row) -1):\n",
    "                coef[i + 1] = coef[i + 1] - l_rate * error * row[i]\n",
    "                \n",
    "        print(\">epoch = %d, lrate = %.3f, error = %.3f\" %(epoch, l_rate, sum_error))\n",
    "    return coef\n",
    "            "
   ]
  },
  {
   "cell_type": "code",
   "execution_count": 11,
   "metadata": {},
   "outputs": [
    {
     "name": "stdout",
     "output_type": "stream",
     "text": [
      ">epoch = 0, lrate = 0.001, error = 46.236\n",
      ">epoch = 1, lrate = 0.001, error = 41.305\n",
      ">epoch = 2, lrate = 0.001, error = 36.930\n",
      ">epoch = 3, lrate = 0.001, error = 33.047\n",
      ">epoch = 4, lrate = 0.001, error = 29.601\n",
      ">epoch = 5, lrate = 0.001, error = 26.543\n",
      ">epoch = 6, lrate = 0.001, error = 23.830\n",
      ">epoch = 7, lrate = 0.001, error = 21.422\n",
      ">epoch = 8, lrate = 0.001, error = 19.285\n",
      ">epoch = 9, lrate = 0.001, error = 17.389\n",
      ">epoch = 10, lrate = 0.001, error = 15.706\n",
      ">epoch = 11, lrate = 0.001, error = 14.213\n",
      ">epoch = 12, lrate = 0.001, error = 12.888\n",
      ">epoch = 13, lrate = 0.001, error = 11.712\n",
      ">epoch = 14, lrate = 0.001, error = 10.668\n",
      ">epoch = 15, lrate = 0.001, error = 9.742\n",
      ">epoch = 16, lrate = 0.001, error = 8.921\n",
      ">epoch = 17, lrate = 0.001, error = 8.191\n",
      ">epoch = 18, lrate = 0.001, error = 7.544\n",
      ">epoch = 19, lrate = 0.001, error = 6.970\n",
      ">epoch = 20, lrate = 0.001, error = 6.461\n",
      ">epoch = 21, lrate = 0.001, error = 6.009\n",
      ">epoch = 22, lrate = 0.001, error = 5.607\n",
      ">epoch = 23, lrate = 0.001, error = 5.251\n",
      ">epoch = 24, lrate = 0.001, error = 4.935\n",
      ">epoch = 25, lrate = 0.001, error = 4.655\n",
      ">epoch = 26, lrate = 0.001, error = 4.406\n",
      ">epoch = 27, lrate = 0.001, error = 4.186\n",
      ">epoch = 28, lrate = 0.001, error = 3.990\n",
      ">epoch = 29, lrate = 0.001, error = 3.816\n",
      ">epoch = 30, lrate = 0.001, error = 3.662\n",
      ">epoch = 31, lrate = 0.001, error = 3.525\n",
      ">epoch = 32, lrate = 0.001, error = 3.404\n",
      ">epoch = 33, lrate = 0.001, error = 3.296\n",
      ">epoch = 34, lrate = 0.001, error = 3.200\n",
      ">epoch = 35, lrate = 0.001, error = 3.115\n",
      ">epoch = 36, lrate = 0.001, error = 3.040\n",
      ">epoch = 37, lrate = 0.001, error = 2.973\n",
      ">epoch = 38, lrate = 0.001, error = 2.914\n",
      ">epoch = 39, lrate = 0.001, error = 2.862\n",
      ">epoch = 40, lrate = 0.001, error = 2.815\n",
      ">epoch = 41, lrate = 0.001, error = 2.773\n",
      ">epoch = 42, lrate = 0.001, error = 2.737\n",
      ">epoch = 43, lrate = 0.001, error = 2.704\n",
      ">epoch = 44, lrate = 0.001, error = 2.675\n",
      ">epoch = 45, lrate = 0.001, error = 2.650\n",
      ">epoch = 46, lrate = 0.001, error = 2.627\n",
      ">epoch = 47, lrate = 0.001, error = 2.607\n",
      ">epoch = 48, lrate = 0.001, error = 2.589\n",
      ">epoch = 49, lrate = 0.001, error = 2.573\n",
      ">epoch = 50, lrate = 0.001, error = 2.559\n",
      ">epoch = 51, lrate = 0.001, error = 2.546\n",
      ">epoch = 52, lrate = 0.001, error = 2.535\n",
      ">epoch = 53, lrate = 0.001, error = 2.525\n",
      ">epoch = 54, lrate = 0.001, error = 2.517\n",
      ">epoch = 55, lrate = 0.001, error = 2.509\n",
      ">epoch = 56, lrate = 0.001, error = 2.502\n",
      ">epoch = 57, lrate = 0.001, error = 2.496\n",
      ">epoch = 58, lrate = 0.001, error = 2.490\n",
      ">epoch = 59, lrate = 0.001, error = 2.486\n",
      ">epoch = 60, lrate = 0.001, error = 2.481\n",
      ">epoch = 61, lrate = 0.001, error = 2.477\n",
      ">epoch = 62, lrate = 0.001, error = 2.474\n",
      ">epoch = 63, lrate = 0.001, error = 2.471\n",
      ">epoch = 64, lrate = 0.001, error = 2.469\n",
      ">epoch = 65, lrate = 0.001, error = 2.466\n",
      ">epoch = 66, lrate = 0.001, error = 2.464\n",
      ">epoch = 67, lrate = 0.001, error = 2.462\n",
      ">epoch = 68, lrate = 0.001, error = 2.461\n",
      ">epoch = 69, lrate = 0.001, error = 2.459\n",
      "[0.2408438347386553, 0.830815987008142]\n"
     ]
    }
   ],
   "source": [
    "### Calculating coeffients\n",
    "\n",
    "dataset = [[1,1], [2,3], [4,3], [3,2], [5,5]]\n",
    "\n",
    "l_rate = 0.001\n",
    "n_epoch = 70\n",
    "coef = coefficients_sgd(dataset, l_rate, n_epoch)\n",
    "print(coef)"
   ]
  },
  {
   "cell_type": "code",
   "execution_count": null,
   "metadata": {},
   "outputs": [],
   "source": []
  }
 ],
 "metadata": {
  "kernelspec": {
   "display_name": "Python 3",
   "language": "python",
   "name": "python3"
  },
  "language_info": {
   "codemirror_mode": {
    "name": "ipython",
    "version": 3
   },
   "file_extension": ".py",
   "mimetype": "text/x-python",
   "name": "python",
   "nbconvert_exporter": "python",
   "pygments_lexer": "ipython3",
   "version": "3.6.5"
  }
 },
 "nbformat": 4,
 "nbformat_minor": 2
}
